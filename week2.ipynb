{
 "cells": [
  {
   "cell_type": "markdown",
   "metadata": {},
   "source": [
    "# IBM Data Science Capstone\n",
    "\n",
    "## Introduction\n",
    "The different neighborhoods of a city can have a distinctly different feel. I will be examining the neighborhoods of Seattle, and clustering them into groups of similar neighborhoods based on number and types of venues they contain. This analysis could be valuable to several groups of people. For example, business owners with a successful business in one neighborhood may be interested in similar areas where they could expand. Or perhaps residents planning to move between neighborhoods might want to know what neighborhoods are similar (or dissimilar) to where they currently live. "
   ]
  },
  {
   "cell_type": "code",
   "execution_count": 20,
   "metadata": {},
   "outputs": [],
   "source": [
    "# Imports, needed for code throughout the analysis\n",
    "import pandas as pd\n",
    "import numpy as np\n",
    "import os\n",
    "import requests\n",
    "import folium\n",
    "import geopy.distance\n",
    "from sklearn.cluster import KMeans\n",
    "import matplotlib.pyplot as plt\n",
    "from math import cos, radians\n",
    "from sklearn.metrics import silhouette_score\n",
    "from sklearn.preprocessing import StandardScaler\n",
    "import seaborn as sns"
   ]
  },
  {
   "cell_type": "markdown",
   "metadata": {},
   "source": [
    "## Data\n",
    "\n",
    "The data used in this analysis comes from 2 sources. \n",
    "\n",
    "First, we need geographic data for Seattle's neighborhoods. This is downloaded from an open data set (found [here](https://gis-kingcounty.opendata.arcgis.com/datasets/neighborhood-centers-in-king-county-neighborhood-centers-point), under the \"Download\" menu). This data defines 46 different neighborhoods of Seattle and provides latitude and longitude coordinates for each. These coordinates will be needed to get the next data.\n",
    "\n",
    "I decided to drop neighborhoods that were far from the city center, and arbitrarily decided that 13km was the cutoff. Calculating distances in terms of latitude and longitude coordinates is actually quite complicated (fun fact: the curvature of the Earth must be accounted for!), but fortunately the `geopy` library does the hard work for you. 33 neighborhoods remained within the cutoff distance."
   ]
  },
  {
   "cell_type": "code",
   "execution_count": 2,
   "metadata": {
    "scrolled": true
   },
   "outputs": [
    {
     "data": {
      "text/html": [
       "<div>\n",
       "<style scoped>\n",
       "    .dataframe tbody tr th:only-of-type {\n",
       "        vertical-align: middle;\n",
       "    }\n",
       "\n",
       "    .dataframe tbody tr th {\n",
       "        vertical-align: top;\n",
       "    }\n",
       "\n",
       "    .dataframe thead th {\n",
       "        text-align: right;\n",
       "    }\n",
       "</style>\n",
       "<table border=\"1\" class=\"dataframe\">\n",
       "  <thead>\n",
       "    <tr style=\"text-align: right;\">\n",
       "      <th></th>\n",
       "      <th>NAME</th>\n",
       "      <th>LATITUDE</th>\n",
       "      <th>LONGITUDE</th>\n",
       "      <th>KM_TO_CITY_CENTER</th>\n",
       "    </tr>\n",
       "  </thead>\n",
       "  <tbody>\n",
       "    <tr>\n",
       "      <th>1</th>\n",
       "      <td>Northgate Neighborhood</td>\n",
       "      <td>47.708593</td>\n",
       "      <td>-122.323276</td>\n",
       "      <td>11.403751</td>\n",
       "    </tr>\n",
       "    <tr>\n",
       "      <th>2</th>\n",
       "      <td>Lake City Neighborhood</td>\n",
       "      <td>47.719278</td>\n",
       "      <td>-122.295228</td>\n",
       "      <td>12.873825</td>\n",
       "    </tr>\n",
       "    <tr>\n",
       "      <th>4</th>\n",
       "      <td>Wedgewood Neighborhood</td>\n",
       "      <td>47.675783</td>\n",
       "      <td>-122.290273</td>\n",
       "      <td>8.350559</td>\n",
       "    </tr>\n",
       "    <tr>\n",
       "      <th>5</th>\n",
       "      <td>University District</td>\n",
       "      <td>47.661268</td>\n",
       "      <td>-122.313133</td>\n",
       "      <td>6.286332</td>\n",
       "    </tr>\n",
       "    <tr>\n",
       "      <th>6</th>\n",
       "      <td>Green Lake Neighborhood</td>\n",
       "      <td>47.679490</td>\n",
       "      <td>-122.325846</td>\n",
       "      <td>8.162216</td>\n",
       "    </tr>\n",
       "  </tbody>\n",
       "</table>\n",
       "</div>"
      ],
      "text/plain": [
       "                      NAME   LATITUDE   LONGITUDE  KM_TO_CITY_CENTER\n",
       "1   Northgate Neighborhood  47.708593 -122.323276          11.403751\n",
       "2   Lake City Neighborhood  47.719278 -122.295228          12.873825\n",
       "4   Wedgewood Neighborhood  47.675783 -122.290273           8.350559\n",
       "5      University District  47.661268 -122.313133           6.286332\n",
       "6  Green Lake Neighborhood  47.679490 -122.325846           8.162216"
      ]
     },
     "execution_count": 2,
     "metadata": {},
     "output_type": "execute_result"
    }
   ],
   "source": [
    "df = pd.read_csv(\"Neighborhood_Centers_in_King_County___neighborhood_centers_point.csv\")\n",
    "df = df[['NAME', 'LATITUDE', 'LONGITUDE' ]]\n",
    "\n",
    "seattle_coordinates = (47.6062, -122.3321)\n",
    "\n",
    "distances = []\n",
    "for idx, neighborhood in df.iterrows():\n",
    "    neighborhood_coordinates = (neighborhood.LATITUDE, neighborhood.LONGITUDE)\n",
    "    km_to_city_center = geopy.distance.distance(seattle_coordinates, neighborhood_coordinates).km\n",
    "    distances.append(km_to_city_center)\n",
    "df['KM_TO_CITY_CENTER'] = distances\n",
    "drop_cities_farther_than = 13\n",
    "df = df[df['KM_TO_CITY_CENTER'] <= drop_cities_farther_than]\n",
    "df.head()"
   ]
  },
  {
   "cell_type": "markdown",
   "metadata": {},
   "source": [
    "Let's see those neighborhoods on a map:"
   ]
  },
  {
   "cell_type": "code",
   "execution_count": 16,
   "metadata": {},
   "outputs": [],
   "source": [
    "seattle_map = folium.Map(location=seattle_coordinates, zoom_start=11)\n",
    "\n",
    "for lat, lng, name in zip(df['LATITUDE'], df['LONGITUDE'], df['NAME']):\n",
    "    label = folium.Popup(name, parse_html=True)\n",
    "    folium.CircleMarker(\n",
    "        [lat,lng],\n",
    "        radius=5,\n",
    "        color='blue',\n",
    "        fill=True,\n",
    "        fill_opacity=1.0,\n",
    "        popup=label\n",
    "    ).add_to(seattle_map)\n",
    "# Uncomment to show map\n",
    "# seattle_map"
   ]
  },
  {
   "cell_type": "markdown",
   "metadata": {},
   "source": [
    "#### *Screenshot of map, in case Notebook is untrusted:*\n",
    "\n",
    "![image](seattle_map.png)"
   ]
  },
  {
   "cell_type": "markdown",
   "metadata": {},
   "source": [
    "Next, we need to get venue data for each neighborhood. We will fetch this from the Foursquare API. This data contains numerous details for each venue, but we are mainly concerned with the `category`. There are hundreds of categories for venues, but they all converge into 10 top level categories, and we will be using these top level categories for this analysis. The top level categories are:\n",
    "- Arts & Entertainment\n",
    "- College & University\n",
    "- Event\n",
    "- Food\n",
    "- Nightlife Spot\n",
    "- Outdoors & Recreation\n",
    "- Professional & Other Places\n",
    "- Residence\n",
    "- Shop & Service\n",
    "- Travel & Transport\n",
    "\n",
    "To get the venue data, we need to iterate through every category for every neighborhood and make a request to the Foursquare API for each. The design of the API creates a limitation, as it is only capable of returning venues within a certain radius from a point on the map. Unfortunately, the neighborhoods of Seattle are not shaped like perfect circles, so we will not get all the venues in a neighborhood, but it will have to do. I arbitrarily chose a radius of 250 meters.\n",
    "\n",
    "Fetching this data requires doing `10 categories * 33 neighborhoods = 330 requests` to the API. Fortunately this is within the usage limits of the free tier. \n",
    "\n",
    "While testing these results, I noticed that many of the requests returned the API limit of 50 venues (for example, Fremont, Capitol Hill, and the International District all had at least 50 `Food` venues). This was a problem because if a neighborhood had more than 50 venues of a certain category, some of them would be left out and this would represent that neighborhood inaccurately. \n",
    "\n",
    "To get around this, if a request returned 50 venues, I would then perform a subsearch of that same area. I submitted 4 new requests to the API, each one searching a radius of 125 meters (half the original 250 meters) and centered 125 meters North, South, East, and West of the original search. These 4 subsearches are all contained within the original search, but do not cover all of it so it is possible that some venues were missed. These subsearches also overlap, so duplicate venues needed to be removed.\n",
    "\n",
    "The code to do this was fairly verbose, so we will skip the details. The results were saved to a CSV file. "
   ]
  },
  {
   "cell_type": "code",
   "execution_count": 213,
   "metadata": {},
   "outputs": [
    {
     "name": "stdout",
     "output_type": "stream",
     "text": [
      "4598 venues found!\n"
     ]
    },
    {
     "data": {
      "text/html": [
       "<div>\n",
       "<style scoped>\n",
       "    .dataframe tbody tr th:only-of-type {\n",
       "        vertical-align: middle;\n",
       "    }\n",
       "\n",
       "    .dataframe tbody tr th {\n",
       "        vertical-align: top;\n",
       "    }\n",
       "\n",
       "    .dataframe thead th {\n",
       "        text-align: right;\n",
       "    }\n",
       "</style>\n",
       "<table border=\"1\" class=\"dataframe\">\n",
       "  <thead>\n",
       "    <tr style=\"text-align: right;\">\n",
       "      <th></th>\n",
       "      <th>VENUE</th>\n",
       "      <th>CATEGORY</th>\n",
       "      <th>TOP_LEVEL_CATEGORY</th>\n",
       "      <th>NEIGHBORHOOD</th>\n",
       "      <th>NEIGHBORHOOD_LAT</th>\n",
       "      <th>NEIGHBORHOOD_LNG</th>\n",
       "    </tr>\n",
       "  </thead>\n",
       "  <tbody>\n",
       "    <tr>\n",
       "      <th>0</th>\n",
       "      <td>Westlake Dance Center</td>\n",
       "      <td>Dance Studio</td>\n",
       "      <td>Arts &amp; Entertainment</td>\n",
       "      <td>Northgate Neighborhood</td>\n",
       "      <td>47.708593</td>\n",
       "      <td>-122.323276</td>\n",
       "    </tr>\n",
       "    <tr>\n",
       "      <th>1</th>\n",
       "      <td>Kidgits</td>\n",
       "      <td>General Entertainment</td>\n",
       "      <td>Arts &amp; Entertainment</td>\n",
       "      <td>Northgate Neighborhood</td>\n",
       "      <td>47.708593</td>\n",
       "      <td>-122.323276</td>\n",
       "    </tr>\n",
       "    <tr>\n",
       "      <th>2</th>\n",
       "      <td>Hot Blonde Bum @ 5th And Northgate</td>\n",
       "      <td>Outdoor Sculpture</td>\n",
       "      <td>Arts &amp; Entertainment</td>\n",
       "      <td>Northgate Neighborhood</td>\n",
       "      <td>47.708593</td>\n",
       "      <td>-122.323276</td>\n",
       "    </tr>\n",
       "    <tr>\n",
       "      <th>3</th>\n",
       "      <td>The Wolfe Den</td>\n",
       "      <td>Theme Park Ride / Attraction</td>\n",
       "      <td>Arts &amp; Entertainment</td>\n",
       "      <td>Northgate Neighborhood</td>\n",
       "      <td>47.708593</td>\n",
       "      <td>-122.323276</td>\n",
       "    </tr>\n",
       "    <tr>\n",
       "      <th>4</th>\n",
       "      <td>Circulation</td>\n",
       "      <td>Art Gallery</td>\n",
       "      <td>Arts &amp; Entertainment</td>\n",
       "      <td>Northgate Neighborhood</td>\n",
       "      <td>47.708593</td>\n",
       "      <td>-122.323276</td>\n",
       "    </tr>\n",
       "  </tbody>\n",
       "</table>\n",
       "</div>"
      ],
      "text/plain": [
       "                                VENUE                      CATEGORY  \\\n",
       "0               Westlake Dance Center                  Dance Studio   \n",
       "1                             Kidgits         General Entertainment   \n",
       "2  Hot Blonde Bum @ 5th And Northgate             Outdoor Sculpture   \n",
       "3                       The Wolfe Den  Theme Park Ride / Attraction   \n",
       "4                         Circulation                   Art Gallery   \n",
       "\n",
       "     TOP_LEVEL_CATEGORY            NEIGHBORHOOD  NEIGHBORHOOD_LAT  \\\n",
       "0  Arts & Entertainment  Northgate Neighborhood         47.708593   \n",
       "1  Arts & Entertainment  Northgate Neighborhood         47.708593   \n",
       "2  Arts & Entertainment  Northgate Neighborhood         47.708593   \n",
       "3  Arts & Entertainment  Northgate Neighborhood         47.708593   \n",
       "4  Arts & Entertainment  Northgate Neighborhood         47.708593   \n",
       "\n",
       "   NEIGHBORHOOD_LNG  \n",
       "0       -122.323276  \n",
       "1       -122.323276  \n",
       "2       -122.323276  \n",
       "3       -122.323276  \n",
       "4       -122.323276  "
      ]
     },
     "execution_count": 213,
     "metadata": {},
     "output_type": "execute_result"
    }
   ],
   "source": [
    "vdf = pd.read_csv('seattle_venues.csv')\n",
    "print('{} venues found!'.format(vdf.shape[0]))\n",
    "vdf.head()"
   ]
  },
  {
   "cell_type": "markdown",
   "metadata": {},
   "source": [
    "## Methodology\n",
    "\n",
    "In order to compare different neighborhoods using their respective venues, we must make some decisions about how we are going to interpret their venue data. \n",
    "\n",
    "First we must decide whether to use `CATEGORY` or `TOP_LEVEL_CATEGORY` to distinguish venue types. We can see how many unique values there are in each column, as well as get an idea how often they occur."
   ]
  },
  {
   "cell_type": "code",
   "execution_count": 5,
   "metadata": {},
   "outputs": [
    {
     "name": "stdout",
     "output_type": "stream",
     "text": [
      "Unique CATEGORY values: 439\n",
      "Unique TOP_LEVEL_CATEGORY values: 9\n",
      "Mean frequency for CATEGORY values: 10.47380410022779\n",
      "Mean frequency for TOP_LEVEL_CATEGORY values: 510.8888888888889\n"
     ]
    }
   ],
   "source": [
    "print('Unique CATEGORY values:', len(vdf.CATEGORY.unique()))\n",
    "print('Unique TOP_LEVEL_CATEGORY values:', len(vdf.TOP_LEVEL_CATEGORY.unique()))\n",
    "print('Mean frequency for CATEGORY values:', vdf.groupby('CATEGORY').count()['VENUE'].mean())\n",
    "print('Mean frequency for TOP_LEVEL_CATEGORY values:', vdf.groupby('TOP_LEVEL_CATEGORY').count()['VENUE'].mean())"
   ]
  },
  {
   "cell_type": "markdown",
   "metadata": {},
   "source": [
    "We can see that there are `439` different values in `CATEGORY` but only `10` different values in `TOP_LEVEL_CATEGORY`. Every unique value in these columns is considered to be fully unique (for example a `\"Pizza Shop\"` and `\"Pizza Parlor\"` would have no association, yet in reality they are similar) which would make it difficult to find similarities between our neighborhoods with the 439 different values in `CATEGORY`. For this reason, I decided to use `TOP_LEVEL_CATEGORY` in my analysis.\n",
    "\n",
    "As a side note, it may be possible to use the fine-grained detail in `CATEGORY` while still maintaining some level of association between `CATEGORY` values with the same `TOP_LEVEL_CATEGORY`, but I am still learning and did not explore this option for the sake of simplicity.\n",
    "\n",
    "Next we must decide how to measure our venues for the sake of comparison. \n",
    "\n",
    "We could use the count of each category in a neighborhood. This would cluster neighborhoods together that have similar amounts of venues in similar categories.\n",
    "\n",
    "Alternatively, we could determine the percentage each category represents of all venues in a neighborhood. This would cluster together neighborhoods that have a similar ratios of each category.\n",
    "\n",
    "I chose to do the former, as it seemed like capturing the quantity of venues in addition to their category was important.\n",
    "\n",
    "#### Data Preparation\n",
    "\n",
    "The data needs to be further processed in order to be used by our clustering algorithm. We extract the `TOP_LEVEL_CATEGORY` for each venue and sum them for each neighborhood. Then we apply a standard scaler to each column. "
   ]
  },
  {
   "cell_type": "code",
   "execution_count": 133,
   "metadata": {},
   "outputs": [
    {
     "data": {
      "text/plain": [
       "array([[-0.25915374, -0.26442201,  0.06986166, -0.02367126, -0.03322256,\n",
       "        -0.39549419,  0.14960655,  0.52764748, -0.54460758],\n",
       "       [-0.25915374, -0.35438002, -0.08383399, -0.28405516, -0.20189093,\n",
       "        -1.0053684 , -0.39895081, -0.72766269, -0.9395977 ],\n",
       "       [ 0.80985545, -0.35438002,  0.5002095 ,  1.71222141,  1.48479277,\n",
       "         1.37314103,  0.25931803,  0.64912911,  0.14662512]])"
      ]
     },
     "execution_count": 133,
     "metadata": {},
     "output_type": "execute_result"
    }
   ],
   "source": [
    "vdf_onehot = pd.get_dummies(vdf[['TOP_LEVEL_CATEGORY']], prefix='', prefix_sep='')\n",
    "vdf_onehot['NEIGHBORHOOD'] = vdf['NEIGHBORHOOD']\n",
    "\n",
    "vdf_sum = vdf_onehot.groupby('NEIGHBORHOOD').sum()\n",
    "\n",
    "scaled = StandardScaler().fit_transform(np.asarray(vdf_sum))\n",
    "scaled[:3]"
   ]
  },
  {
   "cell_type": "markdown",
   "metadata": {},
   "source": [
    "The above shows the first 3 elements of the prepared data. Each element is a list, which represents a neighborhood. Each element in these sub lists represents a category for that neighborhood. If you count them, you will notice that there are 9 elements in each sublist, rather than 10 (remember there were 10 categories originally). That is because not a single neighborhood returned a venue of category \"Event\", so it has been dropped.\n",
    "\n",
    "#### K Means Clustering\n",
    "\n",
    "I have chosen to use the K Means clustering algorithm for this problem. The first step in using this algorithm is finding a suitable value for K (It should be noted that K is the number of clusters). This is done by running tests for multiple values of K and comparing their results. I arbitrarily decide K should be in the range of 2 and 8, because there must be at least 2 clusters, and with only 33 neighborhoods to consider, having 8 or more clusters wouldn't tell us anything meaningful."
   ]
  },
  {
   "cell_type": "code",
   "execution_count": 7,
   "metadata": {},
   "outputs": [
    {
     "data": {
      "text/plain": [
       "<function matplotlib.pyplot.show(close=None, block=None)>"
      ]
     },
     "execution_count": 7,
     "metadata": {},
     "output_type": "execute_result"
    },
    {
     "data": {
      "image/png": "[encoded data removed]",
      "text/plain": [
       "<Figure size 432x288 with 1 Axes>"
      ]
     },
     "metadata": {
      "needs_background": "light"
     },
     "output_type": "display_data"
    }
   ],
   "source": [
    "rand = 1\n",
    "errors = []\n",
    "K = range(2,9)\n",
    "for k in K:\n",
    "    kmeans = KMeans(n_clusters=k, random_state=rand).fit(scaled)\n",
    "    errors.append(kmeans.inertia_)\n",
    "    \n",
    "plt.plot(K, errors, 'bo-')\n",
    "plt.xticks(K)\n",
    "plt.xlabel('K')\n",
    "plt.ylabel('Inertia')\n",
    "plt.show"
   ]
  },
  {
   "cell_type": "markdown",
   "metadata": {},
   "source": [
    "This chart shows the error (`Inertia`) of the model for each value of `K`. A low error is good. Notice that as `K` increases, the error continues to drop. Intuitively, this makes sense; the more clusters you introduce, the fewer neighborhoods each cluster contains, and the closer it can match their features. If you have as many clusters as you have neighborhoods, then each neighborhood would get its own cluster and the error would be 0. But this wouldn't be a very useful application of a clustering algorithm. Our goal is to find an acceptable error value with a reasonable value for `K`.\n",
    "\n",
    "To do this, we are looking for an \"elbow\" in the chart; where the line goes from going sharply downward to sharply to the right. Such an elbow represents the point where increasing `K` has a diminished effect at reducing the error. This is the sweet spot for `K`. Unfortunately, there is no elbow to be seen in this chart, so we will try a different method."
   ]
  },
  {
   "cell_type": "code",
   "execution_count": 8,
   "metadata": {},
   "outputs": [
    {
     "data": {
      "text/plain": [
       "<function matplotlib.pyplot.show(close=None, block=None)>"
      ]
     },
     "execution_count": 8,
     "metadata": {},
     "output_type": "execute_result"
    },
    {
     "data": {
      "image/png": "[encoded data removed]",
      "text/plain": [
       "<Figure size 432x288 with 1 Axes>"
      ]
     },
     "metadata": {
      "needs_background": "light"
     },
     "output_type": "display_data"
    }
   ],
   "source": [
    "sil = []\n",
    "K = range(2,9)\n",
    "for k in K:\n",
    "    kmeans = KMeans(n_clusters=k, random_state=rand).fit(scaled)\n",
    "    labels = kmeans.labels_\n",
    "    sil.append(silhouette_score(scaled, labels, metric = 'euclidean'))\n",
    "    \n",
    "plt.plot(K, sil, 'bo-')\n",
    "plt.xticks(K)\n",
    "plt.xlabel('K')\n",
    "plt.ylabel('Silhouette Score')\n",
    "plt.show"
   ]
  },
  {
   "cell_type": "markdown",
   "metadata": {},
   "source": [
    "This test is the silhouette score. Here we are looking for peaks while also picking an acceptable value for K. There are peaks K is set to 2, 5, and 8. I think 2 would be too few clusters to be meaningful. 5 and 8 have similar scores, but I think 5 is a better choice because it will make observations later in this analysis easier. So we will choose `K=5`, and group our neighborhoods into 5 clusters.\n",
    "\n",
    "\n",
    "#### Results\n",
    "\n",
    "The model assigns each neighborhood to a cluster. We will add a `CLUSTER` column to our original geographic dataframe to represent this assignment."
   ]
  },
  {
   "cell_type": "code",
   "execution_count": 134,
   "metadata": {},
   "outputs": [
    {
     "data": {
      "text/html": [
       "<div>\n",
       "<style scoped>\n",
       "    .dataframe tbody tr th:only-of-type {\n",
       "        vertical-align: middle;\n",
       "    }\n",
       "\n",
       "    .dataframe tbody tr th {\n",
       "        vertical-align: top;\n",
       "    }\n",
       "\n",
       "    .dataframe thead th {\n",
       "        text-align: right;\n",
       "    }\n",
       "</style>\n",
       "<table border=\"1\" class=\"dataframe\">\n",
       "  <thead>\n",
       "    <tr style=\"text-align: right;\">\n",
       "      <th></th>\n",
       "      <th>NAME</th>\n",
       "      <th>LATITUDE</th>\n",
       "      <th>LONGITUDE</th>\n",
       "      <th>CLUSTER</th>\n",
       "    </tr>\n",
       "  </thead>\n",
       "  <tbody>\n",
       "    <tr>\n",
       "      <th>0</th>\n",
       "      <td>Northgate Neighborhood</td>\n",
       "      <td>47.708593</td>\n",
       "      <td>-122.323276</td>\n",
       "      <td>0</td>\n",
       "    </tr>\n",
       "    <tr>\n",
       "      <th>1</th>\n",
       "      <td>Admiral Neighborhood</td>\n",
       "      <td>47.581194</td>\n",
       "      <td>-122.386548</td>\n",
       "      <td>0</td>\n",
       "    </tr>\n",
       "    <tr>\n",
       "      <th>2</th>\n",
       "      <td>Columbia City Neighborhood</td>\n",
       "      <td>47.557847</td>\n",
       "      <td>-122.285044</td>\n",
       "      <td>0</td>\n",
       "    </tr>\n",
       "    <tr>\n",
       "      <th>3</th>\n",
       "      <td>Georgetown Neighborhood</td>\n",
       "      <td>47.547926</td>\n",
       "      <td>-122.316094</td>\n",
       "      <td>0</td>\n",
       "    </tr>\n",
       "    <tr>\n",
       "      <th>4</th>\n",
       "      <td>Magnolia Neighborhood</td>\n",
       "      <td>47.639553</td>\n",
       "      <td>-122.401007</td>\n",
       "      <td>0</td>\n",
       "    </tr>\n",
       "    <tr>\n",
       "      <th>5</th>\n",
       "      <td>White Center Neighborhood</td>\n",
       "      <td>47.517352</td>\n",
       "      <td>-122.354020</td>\n",
       "      <td>0</td>\n",
       "    </tr>\n",
       "    <tr>\n",
       "      <th>6</th>\n",
       "      <td>Central District</td>\n",
       "      <td>47.619169</td>\n",
       "      <td>-122.302550</td>\n",
       "      <td>0</td>\n",
       "    </tr>\n",
       "    <tr>\n",
       "      <th>7</th>\n",
       "      <td>Wallingford Neighborhood</td>\n",
       "      <td>47.661386</td>\n",
       "      <td>-122.333720</td>\n",
       "      <td>0</td>\n",
       "    </tr>\n",
       "    <tr>\n",
       "      <th>8</th>\n",
       "      <td>West Seattle Neighborhood</td>\n",
       "      <td>47.561105</td>\n",
       "      <td>-122.386779</td>\n",
       "      <td>0</td>\n",
       "    </tr>\n",
       "    <tr>\n",
       "      <th>9</th>\n",
       "      <td>Lake City Neighborhood</td>\n",
       "      <td>47.719278</td>\n",
       "      <td>-122.295228</td>\n",
       "      <td>0</td>\n",
       "    </tr>\n",
       "    <tr>\n",
       "      <th>10</th>\n",
       "      <td>Green Lake Neighborhood</td>\n",
       "      <td>47.679490</td>\n",
       "      <td>-122.325846</td>\n",
       "      <td>0</td>\n",
       "    </tr>\n",
       "    <tr>\n",
       "      <th>11</th>\n",
       "      <td>Greenwood Neighborhood</td>\n",
       "      <td>47.690593</td>\n",
       "      <td>-122.355302</td>\n",
       "      <td>0</td>\n",
       "    </tr>\n",
       "    <tr>\n",
       "      <th>12</th>\n",
       "      <td>Seward Park Neighborhood</td>\n",
       "      <td>47.551214</td>\n",
       "      <td>-122.265802</td>\n",
       "      <td>1</td>\n",
       "    </tr>\n",
       "    <tr>\n",
       "      <th>13</th>\n",
       "      <td>Alki Neighborhood</td>\n",
       "      <td>47.579123</td>\n",
       "      <td>-122.410650</td>\n",
       "      <td>1</td>\n",
       "    </tr>\n",
       "    <tr>\n",
       "      <th>14</th>\n",
       "      <td>Wedgewood Neighborhood</td>\n",
       "      <td>47.675783</td>\n",
       "      <td>-122.290273</td>\n",
       "      <td>1</td>\n",
       "    </tr>\n",
       "    <tr>\n",
       "      <th>15</th>\n",
       "      <td>Rainier Beach Neighborhood</td>\n",
       "      <td>47.523306</td>\n",
       "      <td>-122.269990</td>\n",
       "      <td>1</td>\n",
       "    </tr>\n",
       "    <tr>\n",
       "      <th>16</th>\n",
       "      <td>Maple Leaf Neighborhood</td>\n",
       "      <td>47.690346</td>\n",
       "      <td>-122.312234</td>\n",
       "      <td>1</td>\n",
       "    </tr>\n",
       "    <tr>\n",
       "      <th>17</th>\n",
       "      <td>Rainier Valley Neighborhood</td>\n",
       "      <td>47.546161</td>\n",
       "      <td>-122.276066</td>\n",
       "      <td>1</td>\n",
       "    </tr>\n",
       "    <tr>\n",
       "      <th>18</th>\n",
       "      <td>South Park Neighborhood</td>\n",
       "      <td>47.526466</td>\n",
       "      <td>-122.322915</td>\n",
       "      <td>1</td>\n",
       "    </tr>\n",
       "    <tr>\n",
       "      <th>19</th>\n",
       "      <td>Morgan Junction Neighborhood</td>\n",
       "      <td>47.544870</td>\n",
       "      <td>-122.387217</td>\n",
       "      <td>1</td>\n",
       "    </tr>\n",
       "    <tr>\n",
       "      <th>20</th>\n",
       "      <td>Mount Baker Neighborhood</td>\n",
       "      <td>47.583622</td>\n",
       "      <td>-122.293000</td>\n",
       "      <td>1</td>\n",
       "    </tr>\n",
       "    <tr>\n",
       "      <th>21</th>\n",
       "      <td>Beacon Hill Neighborhood</td>\n",
       "      <td>47.559557</td>\n",
       "      <td>-122.304646</td>\n",
       "      <td>1</td>\n",
       "    </tr>\n",
       "    <tr>\n",
       "      <th>22</th>\n",
       "      <td>Harbor Island Neighborhood</td>\n",
       "      <td>47.571481</td>\n",
       "      <td>-122.349596</td>\n",
       "      <td>1</td>\n",
       "    </tr>\n",
       "    <tr>\n",
       "      <th>23</th>\n",
       "      <td>North Beach Neighborhood</td>\n",
       "      <td>47.701541</td>\n",
       "      <td>-122.390056</td>\n",
       "      <td>1</td>\n",
       "    </tr>\n",
       "    <tr>\n",
       "      <th>24</th>\n",
       "      <td>Crown Hill Neighborhood</td>\n",
       "      <td>47.690607</td>\n",
       "      <td>-122.376806</td>\n",
       "      <td>1</td>\n",
       "    </tr>\n",
       "    <tr>\n",
       "      <th>25</th>\n",
       "      <td>Sand Point Neighborhood</td>\n",
       "      <td>47.682126</td>\n",
       "      <td>-122.263670</td>\n",
       "      <td>1</td>\n",
       "    </tr>\n",
       "    <tr>\n",
       "      <th>26</th>\n",
       "      <td>Central Business District</td>\n",
       "      <td>47.609747</td>\n",
       "      <td>-122.337793</td>\n",
       "      <td>2</td>\n",
       "    </tr>\n",
       "    <tr>\n",
       "      <th>27</th>\n",
       "      <td>Capitol Hill Neighborhood</td>\n",
       "      <td>47.615234</td>\n",
       "      <td>-122.320799</td>\n",
       "      <td>2</td>\n",
       "    </tr>\n",
       "    <tr>\n",
       "      <th>28</th>\n",
       "      <td>Ballard Neighborhood</td>\n",
       "      <td>47.668679</td>\n",
       "      <td>-122.386370</td>\n",
       "      <td>3</td>\n",
       "    </tr>\n",
       "    <tr>\n",
       "      <th>29</th>\n",
       "      <td>International District</td>\n",
       "      <td>47.599189</td>\n",
       "      <td>-122.325057</td>\n",
       "      <td>3</td>\n",
       "    </tr>\n",
       "    <tr>\n",
       "      <th>30</th>\n",
       "      <td>Queen Anne Neighborhood</td>\n",
       "      <td>47.624582</td>\n",
       "      <td>-122.356710</td>\n",
       "      <td>3</td>\n",
       "    </tr>\n",
       "    <tr>\n",
       "      <th>31</th>\n",
       "      <td>Fremont Neighborhood</td>\n",
       "      <td>47.649588</td>\n",
       "      <td>-122.349749</td>\n",
       "      <td>3</td>\n",
       "    </tr>\n",
       "    <tr>\n",
       "      <th>32</th>\n",
       "      <td>University District</td>\n",
       "      <td>47.661268</td>\n",
       "      <td>-122.313133</td>\n",
       "      <td>4</td>\n",
       "    </tr>\n",
       "  </tbody>\n",
       "</table>\n",
       "</div>"
      ],
      "text/plain": [
       "                            NAME   LATITUDE   LONGITUDE  CLUSTER\n",
       "0         Northgate Neighborhood  47.708593 -122.323276        0\n",
       "1           Admiral Neighborhood  47.581194 -122.386548        0\n",
       "2     Columbia City Neighborhood  47.557847 -122.285044        0\n",
       "3        Georgetown Neighborhood  47.547926 -122.316094        0\n",
       "4          Magnolia Neighborhood  47.639553 -122.401007        0\n",
       "5      White Center Neighborhood  47.517352 -122.354020        0\n",
       "6               Central District  47.619169 -122.302550        0\n",
       "7       Wallingford Neighborhood  47.661386 -122.333720        0\n",
       "8      West Seattle Neighborhood  47.561105 -122.386779        0\n",
       "9         Lake City Neighborhood  47.719278 -122.295228        0\n",
       "10       Green Lake Neighborhood  47.679490 -122.325846        0\n",
       "11        Greenwood Neighborhood  47.690593 -122.355302        0\n",
       "12      Seward Park Neighborhood  47.551214 -122.265802        1\n",
       "13             Alki Neighborhood  47.579123 -122.410650        1\n",
       "14        Wedgewood Neighborhood  47.675783 -122.290273        1\n",
       "15    Rainier Beach Neighborhood  47.523306 -122.269990        1\n",
       "16       Maple Leaf Neighborhood  47.690346 -122.312234        1\n",
       "17   Rainier Valley Neighborhood  47.546161 -122.276066        1\n",
       "18       South Park Neighborhood  47.526466 -122.322915        1\n",
       "19  Morgan Junction Neighborhood  47.544870 -122.387217        1\n",
       "20      Mount Baker Neighborhood  47.583622 -122.293000        1\n",
       "21      Beacon Hill Neighborhood  47.559557 -122.304646        1\n",
       "22    Harbor Island Neighborhood  47.571481 -122.349596        1\n",
       "23      North Beach Neighborhood  47.701541 -122.390056        1\n",
       "24       Crown Hill Neighborhood  47.690607 -122.376806        1\n",
       "25       Sand Point Neighborhood  47.682126 -122.263670        1\n",
       "26     Central Business District  47.609747 -122.337793        2\n",
       "27     Capitol Hill Neighborhood  47.615234 -122.320799        2\n",
       "28          Ballard Neighborhood  47.668679 -122.386370        3\n",
       "29        International District  47.599189 -122.325057        3\n",
       "30       Queen Anne Neighborhood  47.624582 -122.356710        3\n",
       "31          Fremont Neighborhood  47.649588 -122.349749        3\n",
       "32           University District  47.661268 -122.313133        4"
      ]
     },
     "execution_count": 134,
     "metadata": {},
     "output_type": "execute_result"
    }
   ],
   "source": [
    "kmeans = KMeans(n_clusters=5, random_state=rand).fit(scaled)\n",
    "vdf_sum['CLUSTER'] = kmeans.labels_\n",
    "\n",
    "df_clustered = df.merge(vdf_sum[['CLUSTER']], left_on='NAME', right_on='NEIGHBORHOOD')\n",
    "# df_labeled.drop('LABEL_x', axis=1, inplace=True)\n",
    "df_clustered.rename({'CLUSTER_y': 'CLUSTER'}, axis=1, inplace=True)\n",
    "df_clustered.sort_values(by=['CLUSTER'], inplace=True)\n",
    "df_clustered.reset_index(drop=True, inplace=True)\n",
    "df_clustered.drop('KM_TO_CITY_CENTER', axis=1, inplace=True)\n",
    "df_clustered"
   ]
  },
  {
   "cell_type": "markdown",
   "metadata": {},
   "source": [
    "Finally, let us display our clustered neighborhoods on a map like before, using colors to represent the different clusters."
   ]
  },
  {
   "cell_type": "code",
   "execution_count": 142,
   "metadata": {
    "scrolled": true
   },
   "outputs": [],
   "source": [
    "seattle_map_clustered = folium.Map(location=seattle_coordinates, zoom_start=11)\n",
    "\n",
    "palette = {\n",
    "    0: 'darkorange',\n",
    "    1: 'blue',\n",
    "    2: 'green',\n",
    "    3: 'darkred',\n",
    "    4: 'purple',\n",
    "}\n",
    "\n",
    "for lat, lng, name, cluster in zip(df_clustered['LATITUDE'], df_clustered['LONGITUDE'], df_clustered['NAME'], df_clustered['CLUSTER']):\n",
    "    popup_text = '{}\\nCluster: {}'.format(name, cluster)\n",
    "    _popup = folium.Popup(popup_text, parse_html=True)\n",
    "    folium.CircleMarker(\n",
    "        [lat,lng],\n",
    "        radius=5,\n",
    "        color=palette[cluster],\n",
    "        fill=True,\n",
    "        fill_opacity=1.0,\n",
    "        popup=_popup\n",
    "    ).add_to(seattle_map_clustered)\n",
    "# Uncomment to show map\n",
    "# seattle_map_clustered"
   ]
  },
  {
   "cell_type": "markdown",
   "metadata": {},
   "source": [
    "#### *Screenshot of map, in case Notebook is untrusted:*\n",
    "\n",
    "![image](clustered_seattle_map.png)"
   ]
  },
  {
   "cell_type": "markdown",
   "metadata": {},
   "source": [
    "#### Discussion\n",
    "\n",
    "This approach is bound to be somewhat flawed, as there is much more to a neighborhood than the types of venues it contains. With that limitation in mind, the results were pleasantly surprising. I spent a few years living in Seattle, and would have clustered many of the neighborhoods in the same way if put to the task. \n",
    "\n",
    "All of the more suburban neighborhoods fell into the two largest clusters. Ballard, Fremont, Queen Anne, Green Lake, and the International District are of another cluster. These are centers of activity, full of shops, bars, and restaurants. Capitol Hill is a similar center of activity, yet the algorithm placed it with the Central Business District (the heart of downtown). This is possibly due to its sheer density and number of venues. The final cluster is the University District, home of the University of Washington. It is not surprising that this appeared in its own cluster, as it has a massive concentration of `College & University` venues.\n",
    "\n",
    "In addition to my anecdotal evaluation, we can examine the data to get a profile for each cluster. The following bar chart shows the average number of venues in each neighborhood for each cluster."
   ]
  },
  {
   "cell_type": "code",
   "execution_count": 173,
   "metadata": {},
   "outputs": [
    {
     "data": {
      "text/plain": [
       "Text(0.5, 0, 'Average Venues per Neighborhood')"
      ]
     },
     "execution_count": 173,
     "metadata": {},
     "output_type": "execute_result"
    },
    {
     "data": {
      "image/png": "[encoded data removed]",
      "text/plain": [
       "<Figure size 1400x1120 with 1 Axes>"
      ]
     },
     "metadata": {
      "needs_background": "light"
     },
     "output_type": "display_data"
    }
   ],
   "source": [
    "profiles = vdf_sum.groupby('CLUSTER').mean().transpose()\n",
    "\n",
    "ax = profiles.plot.barh(figsize=(10,8), color=palette)\n",
    "\n",
    "ax.invert_yaxis()\n",
    "plt.title('Average Venue Counts per Neighborhood by Cluster')\n",
    "plt.xlabel('Average Venues per Neighborhood')"
   ]
  },
  {
   "cell_type": "markdown",
   "metadata": {},
   "source": [
    "A further piece of information which will help define our clusters is their density. We can estimate this with the average total venues per neighborhood in each cluster. You *could* get this information from the chart above, but it is easier to visualize separately."
   ]
  },
  {
   "cell_type": "code",
   "execution_count": 188,
   "metadata": {},
   "outputs": [
    {
     "data": {
      "text/plain": [
       "Text(0, 0.5, 'Average Venues per Neighborhood')"
      ]
     },
     "execution_count": 188,
     "metadata": {},
     "output_type": "execute_result"
    },
    {
     "data": {
      "image/png": "[encoded data removed]",
      "text/plain": [
       "<Figure size 840x560 with 1 Axes>"
      ]
     },
     "metadata": {
      "needs_background": "light"
     },
     "output_type": "display_data"
    }
   ],
   "source": [
    "vdf_sum.groupby('CLUSTER').mean().transpose().sum().plot.bar(color=palette.values(),rot=0)\n",
    "plt.title('Venue Density')\n",
    "plt.ylabel('Average Venues per Neighborhood')"
   ]
  },
  {
   "cell_type": "markdown",
   "metadata": {},
   "source": [
    "Using these charts and the map, we can make some assumptions about the clusters, and give them more human-readable names.\n",
    "\n",
    "##### Cluster 0 - High Density Suburb\n",
    "From the map, we can see that this is a semi-suburban cluster. This assertion is backed up by the fact that it has the second lowest density. Neighborhoods in this cluster have all the amenities of their more populated counterparts, but in lower quantities.\n",
    "\n",
    "##### Cluster 1 - Low Density Suburb\n",
    "This is the lowest density cluster. It has few venues of all types, and is likely not a place people often visit without living there.\n",
    "\n",
    "##### Cluster 2 - Dense Commercial District\n",
    "This is the highest density cluster. From the map, we can see that it contains 2 neighborhoods right in the heart of the city. It has the greatest number of shopping, dining, and entertainment venues. It has a proportionally lower amount of `Professional & Other Places` venues, which is a surprise considering one of the two neighborhoods is the Central Business District. It also has many `College & University` venues, signalling the presence of a colleges or universities.\n",
    "\n",
    "##### Cluster 3 - Commercial District\n",
    "This cluster has a similar venue composition to the *Dense Commercial District* cluster, but in lower quantities. \n",
    "\n",
    "##### Cluster 4 - University District\n",
    "This cluster is an outlier, as it only contains a single neighborhood. It has similar venues to the 2 *Commercial* clusters, but with the highest proportion of `College & University` venues by far. There is also a high quantity of `Travel & Transport` venues, likely as a result of the University there.\n",
    "\n",
    "#### Conclusion\n",
    "\n",
    "In this report we saw how K Means clustering could be used to compare neighborhoods in Seattle based on what venues they contain. The approach has some limitations but ultimately produced a reasonable result. "
   ]
  }
 ],
 "metadata": {
  "kernelspec": {
   "display_name": "Python 3",
   "language": "python",
   "name": "python3"
  },
  "language_info": {
   "codemirror_mode": {
    "name": "ipython",
    "version": 3
   },
   "file_extension": ".py",
   "mimetype": "text/x-python",
   "name": "python",
   "nbconvert_exporter": "python",
   "pygments_lexer": "ipython3",
   "version": "3.8.5"
  }
 },
 "nbformat": 4,
 "nbformat_minor": 4
}
