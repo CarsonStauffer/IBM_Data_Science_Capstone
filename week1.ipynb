{
 "cells": [
  {
   "cell_type": "markdown",
   "metadata": {},
   "source": [
    "# IBM Data Science Capstone\n",
    "\n",
    "## Introduction\n",
    "The different neighborhoods of a city can have a distinctly different feel. I will be examining the neighborhoods of Seattle, and clustering them into groups of similar neighborhoods based on number and types of venues they contain. This analysis could be valuable to several groups of people. For example, business owners with a successful business in one neighborhood may be interested in similar areas where they could expand. Or perhaps residents planning to move between neighborhoods might want to know what neighborhoods are similar (or dissimilar) to where they currently live. \n",
    "\n",
    "## Data\n",
    "\n",
    "The data used in this analysis comes from 2 sources. \n",
    "\n",
    "First, we need geographic data for Seattle's neighborhoods. This is downloaded from an open data set (found [here](gis-kingcounty.opendata.arcgis.com/datasets/neighborhood-centers-in-king-county-neighborhood-centers-point), under the \"Download\" menu). This data defines 46 different neighborhoods of Seattle and provides latitude and longitude coordinates for each. These coordinates will be needed to get the next data.\n",
    "\n",
    "Second, we need to get venue data for each neighborhood. We will fetch this from the Foursquare API. This data contains numerous details of each venue, but we are mainly concerned with the `category`. There are hundreds of categories for venues, but they all converge into 10 top level categories, and we will be using these top level categories for this analysis. The top level categories are:\n",
    "- Arts & Entertainment\n",
    "- College & University\n",
    "- Event\n",
    "- Food\n",
    "- Nightlife Spot\n",
    "- Outdoors & Recreation\n",
    "- Professional & Other Places\n",
    "- Residence\n",
    "- Shop & Service\n",
    "- Travel & Transport"
   ]
  }
 ],
 "metadata": {
  "kernelspec": {
   "display_name": "Python 3",
   "language": "python",
   "name": "python3"
  },
  "language_info": {
   "codemirror_mode": {
    "name": "ipython",
    "version": 3
   },
   "file_extension": ".py",
   "mimetype": "text/x-python",
   "name": "python",
   "nbconvert_exporter": "python",
   "pygments_lexer": "ipython3",
   "version": "3.8.5"
  }
 },
 "nbformat": 4,
 "nbformat_minor": 4
}
